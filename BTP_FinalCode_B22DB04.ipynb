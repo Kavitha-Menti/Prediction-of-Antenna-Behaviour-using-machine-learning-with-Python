{
 "cells": [
  {
   "cell_type": "markdown",
   "metadata": {},
   "source": [
    "# Predicting antenna behaviour for curved surface obstacles using ML\n",
    " "
   ]
  },
  {
   "cell_type": "code",
   "execution_count": 1,
   "metadata": {},
   "outputs": [],
   "source": [
    "#importing the required libraries\n",
    "import pandas as pd\n",
    "import numpy as np\n",
    "import matplotlib.pyplot as plt\n",
    "import matplotlib.colors as colors              \n",
    "from sklearn.utils import resample\n",
    "from sklearn.model_selection import train_test_split\n",
    "from sklearn.preprocessing import scale\n",
    "from sklearn.svm import SVR\n",
    "from sklearn.metrics import mean_squared_error\n",
    "from sklearn.metrics import mean_absolute_error\n",
    "from sklearn.model_selection import GridSearchCV\n",
    "from sklearn.neighbors import KNeighborsRegressor\n",
    "from sklearn import linear_model\n",
    "from sklearn.linear_model import Lasso\n",
    "from sklearn.decomposition import PCA\n",
    "from sklearn.svm import SVC\n",
    "from sklearn.model_selection import GridSearchCV\n",
    "from sklearn.metrics import confusion_matrix\n",
    "from sklearn.metrics import plot_confusion_matrix\n",
    "from sklearn.neighbors import KNeighborsClassifier\n",
    "from sklearn.metrics import accuracy_score"
   ]
  },
  {
   "cell_type": "markdown",
   "metadata": {},
   "source": [
    "## Loading Dataset"
   ]
  },
  {
   "cell_type": "code",
   "execution_count": 2,
   "metadata": {},
   "outputs": [
    {
     "data": {
      "text/html": [
       "<div>\n",
       "<style scoped>\n",
       "    .dataframe tbody tr th:only-of-type {\n",
       "        vertical-align: middle;\n",
       "    }\n",
       "\n",
       "    .dataframe tbody tr th {\n",
       "        vertical-align: top;\n",
       "    }\n",
       "\n",
       "    .dataframe thead th {\n",
       "        text-align: right;\n",
       "    }\n",
       "</style>\n",
       "<table border=\"1\" class=\"dataframe\">\n",
       "  <thead>\n",
       "    <tr style=\"text-align: right;\">\n",
       "      <th></th>\n",
       "      <th>Frequency(GHz) (f)</th>\n",
       "      <th>Dipole_length (L)</th>\n",
       "      <th>Impedance (z)</th>\n",
       "      <th>Wire Radius(mm) (rho)</th>\n",
       "      <th>Radius of curvature (m) (a)</th>\n",
       "      <th>Curved surface height(m) (h)</th>\n",
       "      <th>Angle(theta)</th>\n",
       "      <th>Distance(m) (d)</th>\n",
       "      <th>Relative_Permittivity</th>\n",
       "      <th>Max_gain</th>\n",
       "      <th>Direction_max_gain</th>\n",
       "      <th>Reflection_Pattern</th>\n",
       "    </tr>\n",
       "  </thead>\n",
       "  <tbody>\n",
       "    <tr>\n",
       "      <th>0</th>\n",
       "      <td>1</td>\n",
       "      <td>0.0749</td>\n",
       "      <td>50</td>\n",
       "      <td>1</td>\n",
       "      <td>0.2997</td>\n",
       "      <td>0.1498</td>\n",
       "      <td>15</td>\n",
       "      <td>0.2997</td>\n",
       "      <td>infinite</td>\n",
       "      <td>2.763</td>\n",
       "      <td>310.0</td>\n",
       "      <td>Multi-Directional</td>\n",
       "    </tr>\n",
       "    <tr>\n",
       "      <th>1</th>\n",
       "      <td>1</td>\n",
       "      <td>0.0749</td>\n",
       "      <td>50</td>\n",
       "      <td>1</td>\n",
       "      <td>0.2997</td>\n",
       "      <td>0.1498</td>\n",
       "      <td>15</td>\n",
       "      <td>0.5995</td>\n",
       "      <td>infinite</td>\n",
       "      <td>2.119</td>\n",
       "      <td>332.0</td>\n",
       "      <td>Multi-Directional</td>\n",
       "    </tr>\n",
       "    <tr>\n",
       "      <th>2</th>\n",
       "      <td>1</td>\n",
       "      <td>0.0749</td>\n",
       "      <td>50</td>\n",
       "      <td>1</td>\n",
       "      <td>0.2997</td>\n",
       "      <td>0.1498</td>\n",
       "      <td>15</td>\n",
       "      <td>0.8993</td>\n",
       "      <td>infinite</td>\n",
       "      <td>1.943</td>\n",
       "      <td>338.1</td>\n",
       "      <td>Multi-Directional</td>\n",
       "    </tr>\n",
       "    <tr>\n",
       "      <th>3</th>\n",
       "      <td>1</td>\n",
       "      <td>0.0749</td>\n",
       "      <td>50</td>\n",
       "      <td>1</td>\n",
       "      <td>0.2997</td>\n",
       "      <td>0.1498</td>\n",
       "      <td>15</td>\n",
       "      <td>1.1991</td>\n",
       "      <td>infinite</td>\n",
       "      <td>1.865</td>\n",
       "      <td>342.0</td>\n",
       "      <td>Multi-Directional</td>\n",
       "    </tr>\n",
       "    <tr>\n",
       "      <th>4</th>\n",
       "      <td>1</td>\n",
       "      <td>0.0749</td>\n",
       "      <td>50</td>\n",
       "      <td>1</td>\n",
       "      <td>0.2997</td>\n",
       "      <td>0.1498</td>\n",
       "      <td>15</td>\n",
       "      <td>1.4989</td>\n",
       "      <td>infinite</td>\n",
       "      <td>1.819</td>\n",
       "      <td>344.0</td>\n",
       "      <td>Multi-Directional</td>\n",
       "    </tr>\n",
       "  </tbody>\n",
       "</table>\n",
       "</div>"
      ],
      "text/plain": [
       "   Frequency(GHz) (f)  Dipole_length (L)  Impedance (z)  \\\n",
       "0                   1             0.0749             50   \n",
       "1                   1             0.0749             50   \n",
       "2                   1             0.0749             50   \n",
       "3                   1             0.0749             50   \n",
       "4                   1             0.0749             50   \n",
       "\n",
       "   Wire Radius(mm) (rho)  Radius of curvature (m) (a)  \\\n",
       "0                      1                       0.2997   \n",
       "1                      1                       0.2997   \n",
       "2                      1                       0.2997   \n",
       "3                      1                       0.2997   \n",
       "4                      1                       0.2997   \n",
       "\n",
       "   Curved surface height(m) (h)  Angle(theta)  Distance(m) (d)  \\\n",
       "0                        0.1498            15           0.2997   \n",
       "1                        0.1498            15           0.5995   \n",
       "2                        0.1498            15           0.8993   \n",
       "3                        0.1498            15           1.1991   \n",
       "4                        0.1498            15           1.4989   \n",
       "\n",
       "  Relative_Permittivity  Max_gain  Direction_max_gain Reflection_Pattern  \n",
       "0              infinite     2.763               310.0  Multi-Directional  \n",
       "1              infinite     2.119               332.0  Multi-Directional  \n",
       "2              infinite     1.943               338.1  Multi-Directional  \n",
       "3              infinite     1.865               342.0  Multi-Directional  \n",
       "4              infinite     1.819               344.0  Multi-Directional  "
      ]
     },
     "execution_count": 2,
     "metadata": {},
     "output_type": "execute_result"
    }
   ],
   "source": [
    "df = pd.read_excel('C:\\\\Users\\\\mypc\\\\Desktop\\\\BTP_B22DB04\\\\BTP_Dataset.xlsx',\n",
    "                header=0)\n",
    "df.head()\n",
    "\n"
   ]
  },
  {
   "cell_type": "code",
   "execution_count": 3,
   "metadata": {},
   "outputs": [
    {
     "data": {
      "text/plain": [
       "Frequency(GHz) (f)                int64\n",
       "Dipole_length (L)               float64\n",
       "Impedance (z)                     int64\n",
       "Wire Radius(mm) (rho)             int64\n",
       "Radius of curvature (m) (a)     float64\n",
       "Curved surface height(m) (h)    float64\n",
       "Angle(theta)                      int64\n",
       "Distance(m) (d)                 float64\n",
       "Relative_Permittivity            object\n",
       "Max_gain                        float64\n",
       "Direction_max_gain              float64\n",
       "Reflection_Pattern               object\n",
       "dtype: object"
      ]
     },
     "execution_count": 3,
     "metadata": {},
     "output_type": "execute_result"
    }
   ],
   "source": [
    "df.dtypes"
   ]
  },
  {
   "cell_type": "markdown",
   "metadata": {},
   "source": [
    "## Data Pre-Processing"
   ]
  },
  {
   "cell_type": "markdown",
   "metadata": {},
   "source": [
    "### Getting Features and Target variables "
   ]
  },
  {
   "cell_type": "markdown",
   "metadata": {},
   "source": [
    "X holds all the features "
   ]
  },
  {
   "cell_type": "code",
   "execution_count": 4,
   "metadata": {},
   "outputs": [
    {
     "data": {
      "text/html": [
       "<div>\n",
       "<style scoped>\n",
       "    .dataframe tbody tr th:only-of-type {\n",
       "        vertical-align: middle;\n",
       "    }\n",
       "\n",
       "    .dataframe tbody tr th {\n",
       "        vertical-align: top;\n",
       "    }\n",
       "\n",
       "    .dataframe thead th {\n",
       "        text-align: right;\n",
       "    }\n",
       "</style>\n",
       "<table border=\"1\" class=\"dataframe\">\n",
       "  <thead>\n",
       "    <tr style=\"text-align: right;\">\n",
       "      <th></th>\n",
       "      <th>Frequency(GHz) (f)</th>\n",
       "      <th>Dipole_length (L)</th>\n",
       "      <th>Impedance (z)</th>\n",
       "      <th>Wire Radius(mm) (rho)</th>\n",
       "      <th>Radius of curvature (m) (a)</th>\n",
       "      <th>Curved surface height(m) (h)</th>\n",
       "      <th>Angle(theta)</th>\n",
       "      <th>Distance(m) (d)</th>\n",
       "      <th>Relative_Permittivity</th>\n",
       "    </tr>\n",
       "  </thead>\n",
       "  <tbody>\n",
       "    <tr>\n",
       "      <th>0</th>\n",
       "      <td>1</td>\n",
       "      <td>0.0749</td>\n",
       "      <td>50</td>\n",
       "      <td>1</td>\n",
       "      <td>0.2997</td>\n",
       "      <td>0.1498</td>\n",
       "      <td>15</td>\n",
       "      <td>0.2997</td>\n",
       "      <td>infinite</td>\n",
       "    </tr>\n",
       "    <tr>\n",
       "      <th>1</th>\n",
       "      <td>1</td>\n",
       "      <td>0.0749</td>\n",
       "      <td>50</td>\n",
       "      <td>1</td>\n",
       "      <td>0.2997</td>\n",
       "      <td>0.1498</td>\n",
       "      <td>15</td>\n",
       "      <td>0.5995</td>\n",
       "      <td>infinite</td>\n",
       "    </tr>\n",
       "    <tr>\n",
       "      <th>2</th>\n",
       "      <td>1</td>\n",
       "      <td>0.0749</td>\n",
       "      <td>50</td>\n",
       "      <td>1</td>\n",
       "      <td>0.2997</td>\n",
       "      <td>0.1498</td>\n",
       "      <td>15</td>\n",
       "      <td>0.8993</td>\n",
       "      <td>infinite</td>\n",
       "    </tr>\n",
       "    <tr>\n",
       "      <th>3</th>\n",
       "      <td>1</td>\n",
       "      <td>0.0749</td>\n",
       "      <td>50</td>\n",
       "      <td>1</td>\n",
       "      <td>0.2997</td>\n",
       "      <td>0.1498</td>\n",
       "      <td>15</td>\n",
       "      <td>1.1991</td>\n",
       "      <td>infinite</td>\n",
       "    </tr>\n",
       "    <tr>\n",
       "      <th>4</th>\n",
       "      <td>1</td>\n",
       "      <td>0.0749</td>\n",
       "      <td>50</td>\n",
       "      <td>1</td>\n",
       "      <td>0.2997</td>\n",
       "      <td>0.1498</td>\n",
       "      <td>15</td>\n",
       "      <td>1.4989</td>\n",
       "      <td>infinite</td>\n",
       "    </tr>\n",
       "  </tbody>\n",
       "</table>\n",
       "</div>"
      ],
      "text/plain": [
       "   Frequency(GHz) (f)  Dipole_length (L)  Impedance (z)  \\\n",
       "0                   1             0.0749             50   \n",
       "1                   1             0.0749             50   \n",
       "2                   1             0.0749             50   \n",
       "3                   1             0.0749             50   \n",
       "4                   1             0.0749             50   \n",
       "\n",
       "   Wire Radius(mm) (rho)  Radius of curvature (m) (a)  \\\n",
       "0                      1                       0.2997   \n",
       "1                      1                       0.2997   \n",
       "2                      1                       0.2997   \n",
       "3                      1                       0.2997   \n",
       "4                      1                       0.2997   \n",
       "\n",
       "   Curved surface height(m) (h)  Angle(theta)  Distance(m) (d)  \\\n",
       "0                        0.1498            15           0.2997   \n",
       "1                        0.1498            15           0.5995   \n",
       "2                        0.1498            15           0.8993   \n",
       "3                        0.1498            15           1.1991   \n",
       "4                        0.1498            15           1.4989   \n",
       "\n",
       "  Relative_Permittivity  \n",
       "0              infinite  \n",
       "1              infinite  \n",
       "2              infinite  \n",
       "3              infinite  \n",
       "4              infinite  "
      ]
     },
     "execution_count": 4,
     "metadata": {},
     "output_type": "execute_result"
    }
   ],
   "source": [
    "X=df.drop(['Max_gain', 'Direction_max_gain','Reflection_Pattern'],axis=1).copy()\n",
    "X.head()"
   ]
  },
  {
   "cell_type": "markdown",
   "metadata": {},
   "source": [
    "<br> y_1 is the target variable 'MAX_GAIN'"
   ]
  },
  {
   "cell_type": "code",
   "execution_count": 5,
   "metadata": {},
   "outputs": [
    {
     "data": {
      "text/plain": [
       "0    2.763\n",
       "1    2.119\n",
       "2    1.943\n",
       "3    1.865\n",
       "4    1.819\n",
       "Name: Max_gain, dtype: float64"
      ]
     },
     "execution_count": 5,
     "metadata": {},
     "output_type": "execute_result"
    }
   ],
   "source": [
    "y_1=df['Max_gain'].copy()\n",
    "y_1.head()"
   ]
  },
  {
   "cell_type": "markdown",
   "metadata": {},
   "source": [
    "<br>y_2 is the target variable 'Direction of the Maximum Gain'"
   ]
  },
  {
   "cell_type": "code",
   "execution_count": 6,
   "metadata": {},
   "outputs": [
    {
     "data": {
      "text/plain": [
       "0    310.0\n",
       "1    332.0\n",
       "2    338.1\n",
       "3    342.0\n",
       "4    344.0\n",
       "Name: Direction_max_gain, dtype: float64"
      ]
     },
     "execution_count": 6,
     "metadata": {},
     "output_type": "execute_result"
    }
   ],
   "source": [
    "y_2=df['Direction_max_gain'].copy()\n",
    "y_2.head()"
   ]
  },
  {
   "cell_type": "markdown",
   "metadata": {},
   "source": [
    "<br>y_3 is the target variable 'Reflection_Pattern'"
   ]
  },
  {
   "cell_type": "code",
   "execution_count": 7,
   "metadata": {},
   "outputs": [
    {
     "data": {
      "text/plain": [
       "0    Multi-Directional\n",
       "1    Multi-Directional\n",
       "2    Multi-Directional\n",
       "3    Multi-Directional\n",
       "4    Multi-Directional\n",
       "Name: Reflection_Pattern, dtype: object"
      ]
     },
     "execution_count": 7,
     "metadata": {},
     "output_type": "execute_result"
    }
   ],
   "source": [
    "y_3=df['Reflection_Pattern'].copy()\n",
    "y_3.head()"
   ]
  },
  {
   "cell_type": "markdown",
   "metadata": {},
   "source": [
    "### Processing of the feature 'Relative Permittivity'"
   ]
  },
  {
   "cell_type": "markdown",
   "metadata": {},
   "source": [
    "Since we input numbers to our Machine Learning models and to find a way to input the value of Infinity, we take the reciprocal of the feature 'Permittivity' for all the Data samples "
   ]
  },
  {
   "cell_type": "code",
   "execution_count": 8,
   "metadata": {},
   "outputs": [
    {
     "data": {
      "text/plain": [
       "0    infinite\n",
       "1    infinite\n",
       "2    infinite\n",
       "3    infinite\n",
       "4    infinite\n",
       "Name: Relative_Permittivity, dtype: object"
      ]
     },
     "execution_count": 8,
     "metadata": {},
     "output_type": "execute_result"
    }
   ],
   "source": [
    "X['Relative_Permittivity'].head()\n"
   ]
  },
  {
   "cell_type": "code",
   "execution_count": 9,
   "metadata": {},
   "outputs": [],
   "source": [
    "def reciprocal(x):\n",
    "    if x == 'infinite':\n",
    "        return 0\n",
    "    else:\n",
    "        return 1/x\n",
    "\n",
    "X['Relative_Permittivity'] = X['Relative_Permittivity'].apply(reciprocal)\n"
   ]
  },
  {
   "cell_type": "code",
   "execution_count": 10,
   "metadata": {},
   "outputs": [
    {
     "data": {
      "text/html": [
       "<div>\n",
       "<style scoped>\n",
       "    .dataframe tbody tr th:only-of-type {\n",
       "        vertical-align: middle;\n",
       "    }\n",
       "\n",
       "    .dataframe tbody tr th {\n",
       "        vertical-align: top;\n",
       "    }\n",
       "\n",
       "    .dataframe thead th {\n",
       "        text-align: right;\n",
       "    }\n",
       "</style>\n",
       "<table border=\"1\" class=\"dataframe\">\n",
       "  <thead>\n",
       "    <tr style=\"text-align: right;\">\n",
       "      <th></th>\n",
       "      <th>Frequency(GHz) (f)</th>\n",
       "      <th>Dipole_length (L)</th>\n",
       "      <th>Impedance (z)</th>\n",
       "      <th>Wire Radius(mm) (rho)</th>\n",
       "      <th>Radius of curvature (m) (a)</th>\n",
       "      <th>Curved surface height(m) (h)</th>\n",
       "      <th>Angle(theta)</th>\n",
       "      <th>Distance(m) (d)</th>\n",
       "      <th>Relative_Permittivity</th>\n",
       "    </tr>\n",
       "  </thead>\n",
       "  <tbody>\n",
       "    <tr>\n",
       "      <th>0</th>\n",
       "      <td>1</td>\n",
       "      <td>0.0749</td>\n",
       "      <td>50</td>\n",
       "      <td>1</td>\n",
       "      <td>0.2997</td>\n",
       "      <td>0.1498</td>\n",
       "      <td>15</td>\n",
       "      <td>0.2997</td>\n",
       "      <td>0</td>\n",
       "    </tr>\n",
       "    <tr>\n",
       "      <th>1</th>\n",
       "      <td>1</td>\n",
       "      <td>0.0749</td>\n",
       "      <td>50</td>\n",
       "      <td>1</td>\n",
       "      <td>0.2997</td>\n",
       "      <td>0.1498</td>\n",
       "      <td>15</td>\n",
       "      <td>0.5995</td>\n",
       "      <td>0</td>\n",
       "    </tr>\n",
       "    <tr>\n",
       "      <th>2</th>\n",
       "      <td>1</td>\n",
       "      <td>0.0749</td>\n",
       "      <td>50</td>\n",
       "      <td>1</td>\n",
       "      <td>0.2997</td>\n",
       "      <td>0.1498</td>\n",
       "      <td>15</td>\n",
       "      <td>0.8993</td>\n",
       "      <td>0</td>\n",
       "    </tr>\n",
       "    <tr>\n",
       "      <th>3</th>\n",
       "      <td>1</td>\n",
       "      <td>0.0749</td>\n",
       "      <td>50</td>\n",
       "      <td>1</td>\n",
       "      <td>0.2997</td>\n",
       "      <td>0.1498</td>\n",
       "      <td>15</td>\n",
       "      <td>1.1991</td>\n",
       "      <td>0</td>\n",
       "    </tr>\n",
       "    <tr>\n",
       "      <th>4</th>\n",
       "      <td>1</td>\n",
       "      <td>0.0749</td>\n",
       "      <td>50</td>\n",
       "      <td>1</td>\n",
       "      <td>0.2997</td>\n",
       "      <td>0.1498</td>\n",
       "      <td>15</td>\n",
       "      <td>1.4989</td>\n",
       "      <td>0</td>\n",
       "    </tr>\n",
       "  </tbody>\n",
       "</table>\n",
       "</div>"
      ],
      "text/plain": [
       "   Frequency(GHz) (f)  Dipole_length (L)  Impedance (z)  \\\n",
       "0                   1             0.0749             50   \n",
       "1                   1             0.0749             50   \n",
       "2                   1             0.0749             50   \n",
       "3                   1             0.0749             50   \n",
       "4                   1             0.0749             50   \n",
       "\n",
       "   Wire Radius(mm) (rho)  Radius of curvature (m) (a)  \\\n",
       "0                      1                       0.2997   \n",
       "1                      1                       0.2997   \n",
       "2                      1                       0.2997   \n",
       "3                      1                       0.2997   \n",
       "4                      1                       0.2997   \n",
       "\n",
       "   Curved surface height(m) (h)  Angle(theta)  Distance(m) (d)  \\\n",
       "0                        0.1498            15           0.2997   \n",
       "1                        0.1498            15           0.5995   \n",
       "2                        0.1498            15           0.8993   \n",
       "3                        0.1498            15           1.1991   \n",
       "4                        0.1498            15           1.4989   \n",
       "\n",
       "   Relative_Permittivity  \n",
       "0                      0  \n",
       "1                      0  \n",
       "2                      0  \n",
       "3                      0  \n",
       "4                      0  "
      ]
     },
     "execution_count": 10,
     "metadata": {},
     "output_type": "execute_result"
    }
   ],
   "source": [
    "X.head()"
   ]
  },
  {
   "cell_type": "markdown",
   "metadata": {},
   "source": [
    "### Data Scaling"
   ]
  },
  {
   "cell_type": "markdown",
   "metadata": {},
   "source": [
    "Since we are dealing with data of different ranges, we need to scale them so that they contribute in similar proportions."
   ]
  },
  {
   "cell_type": "code",
   "execution_count": 11,
   "metadata": {},
   "outputs": [
    {
     "data": {
      "text/html": [
       "<div>\n",
       "<style scoped>\n",
       "    .dataframe tbody tr th:only-of-type {\n",
       "        vertical-align: middle;\n",
       "    }\n",
       "\n",
       "    .dataframe tbody tr th {\n",
       "        vertical-align: top;\n",
       "    }\n",
       "\n",
       "    .dataframe thead th {\n",
       "        text-align: right;\n",
       "    }\n",
       "</style>\n",
       "<table border=\"1\" class=\"dataframe\">\n",
       "  <thead>\n",
       "    <tr style=\"text-align: right;\">\n",
       "      <th></th>\n",
       "      <th>0</th>\n",
       "      <th>1</th>\n",
       "      <th>2</th>\n",
       "      <th>3</th>\n",
       "      <th>4</th>\n",
       "      <th>5</th>\n",
       "      <th>6</th>\n",
       "      <th>7</th>\n",
       "      <th>8</th>\n",
       "    </tr>\n",
       "  </thead>\n",
       "  <tbody>\n",
       "    <tr>\n",
       "      <th>0</th>\n",
       "      <td>0.0</td>\n",
       "      <td>1.387779e-17</td>\n",
       "      <td>0.0</td>\n",
       "      <td>0.0</td>\n",
       "      <td>-1.414214</td>\n",
       "      <td>2.775558e-17</td>\n",
       "      <td>-1.31122</td>\n",
       "      <td>-1.566699</td>\n",
       "      <td>0.0</td>\n",
       "    </tr>\n",
       "    <tr>\n",
       "      <th>1</th>\n",
       "      <td>0.0</td>\n",
       "      <td>1.387779e-17</td>\n",
       "      <td>0.0</td>\n",
       "      <td>0.0</td>\n",
       "      <td>-1.414214</td>\n",
       "      <td>2.775558e-17</td>\n",
       "      <td>-1.31122</td>\n",
       "      <td>-1.218544</td>\n",
       "      <td>0.0</td>\n",
       "    </tr>\n",
       "    <tr>\n",
       "      <th>2</th>\n",
       "      <td>0.0</td>\n",
       "      <td>1.387779e-17</td>\n",
       "      <td>0.0</td>\n",
       "      <td>0.0</td>\n",
       "      <td>-1.414214</td>\n",
       "      <td>2.775558e-17</td>\n",
       "      <td>-1.31122</td>\n",
       "      <td>-0.870388</td>\n",
       "      <td>0.0</td>\n",
       "    </tr>\n",
       "    <tr>\n",
       "      <th>3</th>\n",
       "      <td>0.0</td>\n",
       "      <td>1.387779e-17</td>\n",
       "      <td>0.0</td>\n",
       "      <td>0.0</td>\n",
       "      <td>-1.414214</td>\n",
       "      <td>2.775558e-17</td>\n",
       "      <td>-1.31122</td>\n",
       "      <td>-0.522233</td>\n",
       "      <td>0.0</td>\n",
       "    </tr>\n",
       "    <tr>\n",
       "      <th>4</th>\n",
       "      <td>0.0</td>\n",
       "      <td>1.387779e-17</td>\n",
       "      <td>0.0</td>\n",
       "      <td>0.0</td>\n",
       "      <td>-1.414214</td>\n",
       "      <td>2.775558e-17</td>\n",
       "      <td>-1.31122</td>\n",
       "      <td>-0.174078</td>\n",
       "      <td>0.0</td>\n",
       "    </tr>\n",
       "  </tbody>\n",
       "</table>\n",
       "</div>"
      ],
      "text/plain": [
       "     0             1    2    3         4             5        6         7    8\n",
       "0  0.0  1.387779e-17  0.0  0.0 -1.414214  2.775558e-17 -1.31122 -1.566699  0.0\n",
       "1  0.0  1.387779e-17  0.0  0.0 -1.414214  2.775558e-17 -1.31122 -1.218544  0.0\n",
       "2  0.0  1.387779e-17  0.0  0.0 -1.414214  2.775558e-17 -1.31122 -0.870388  0.0\n",
       "3  0.0  1.387779e-17  0.0  0.0 -1.414214  2.775558e-17 -1.31122 -0.522233  0.0\n",
       "4  0.0  1.387779e-17  0.0  0.0 -1.414214  2.775558e-17 -1.31122 -0.174078  0.0"
      ]
     },
     "execution_count": 11,
     "metadata": {},
     "output_type": "execute_result"
    }
   ],
   "source": [
    "X_scaled = scale(X)\n",
    "X_encoded_df=pd.DataFrame(X_scaled)\n",
    "X_encoded_df.head()"
   ]
  },
  {
   "cell_type": "code",
   "execution_count": 12,
   "metadata": {},
   "outputs": [
    {
     "name": "stdout",
     "output_type": "stream",
     "text": [
      "2.1288690982620078\n",
      "2.7533348\n"
     ]
    }
   ],
   "source": [
    "mean_y_1=y_1.mean()\n",
    "var_y_1=y_1.var()\n",
    "print(var_y_1)\n",
    "print(mean_y_1)"
   ]
  },
  {
   "cell_type": "code",
   "execution_count": 13,
   "metadata": {},
   "outputs": [
    {
     "name": "stdout",
     "output_type": "stream",
     "text": [
      "2333.4720419277105\n",
      "320.79319999999996\n"
     ]
    }
   ],
   "source": [
    "mean_y_2=y_2.mean()\n",
    "var_y_2=y_2.var()\n",
    "print(var_y_2)\n",
    "print(mean_y_2)"
   ]
  },
  {
   "cell_type": "code",
   "execution_count": 14,
   "metadata": {},
   "outputs": [
    {
     "data": {
      "text/html": [
       "<div>\n",
       "<style scoped>\n",
       "    .dataframe tbody tr th:only-of-type {\n",
       "        vertical-align: middle;\n",
       "    }\n",
       "\n",
       "    .dataframe tbody tr th {\n",
       "        vertical-align: top;\n",
       "    }\n",
       "\n",
       "    .dataframe thead th {\n",
       "        text-align: right;\n",
       "    }\n",
       "</style>\n",
       "<table border=\"1\" class=\"dataframe\">\n",
       "  <thead>\n",
       "    <tr style=\"text-align: right;\">\n",
       "      <th></th>\n",
       "      <th>0</th>\n",
       "    </tr>\n",
       "  </thead>\n",
       "  <tbody>\n",
       "    <tr>\n",
       "      <th>0</th>\n",
       "      <td>0.006638</td>\n",
       "    </tr>\n",
       "    <tr>\n",
       "      <th>1</th>\n",
       "      <td>-0.435627</td>\n",
       "    </tr>\n",
       "    <tr>\n",
       "      <th>2</th>\n",
       "      <td>-0.556494</td>\n",
       "    </tr>\n",
       "    <tr>\n",
       "      <th>3</th>\n",
       "      <td>-0.610060</td>\n",
       "    </tr>\n",
       "    <tr>\n",
       "      <th>4</th>\n",
       "      <td>-0.641650</td>\n",
       "    </tr>\n",
       "  </tbody>\n",
       "</table>\n",
       "</div>"
      ],
      "text/plain": [
       "          0\n",
       "0  0.006638\n",
       "1 -0.435627\n",
       "2 -0.556494\n",
       "3 -0.610060\n",
       "4 -0.641650"
      ]
     },
     "execution_count": 14,
     "metadata": {},
     "output_type": "execute_result"
    }
   ],
   "source": [
    "y_1_scaled = scale(y_1)\n",
    "#X_encoded_scaled\n",
    "y_1_df=pd.DataFrame(y_1_scaled)\n",
    "y_1_df.head()\n"
   ]
  },
  {
   "cell_type": "code",
   "execution_count": 15,
   "metadata": {},
   "outputs": [
    {
     "data": {
      "text/html": [
       "<div>\n",
       "<style scoped>\n",
       "    .dataframe tbody tr th:only-of-type {\n",
       "        vertical-align: middle;\n",
       "    }\n",
       "\n",
       "    .dataframe tbody tr th {\n",
       "        vertical-align: top;\n",
       "    }\n",
       "\n",
       "    .dataframe thead th {\n",
       "        text-align: right;\n",
       "    }\n",
       "</style>\n",
       "<table border=\"1\" class=\"dataframe\">\n",
       "  <thead>\n",
       "    <tr style=\"text-align: right;\">\n",
       "      <th></th>\n",
       "      <th>0</th>\n",
       "    </tr>\n",
       "  </thead>\n",
       "  <tbody>\n",
       "    <tr>\n",
       "      <th>0</th>\n",
       "      <td>-0.223882</td>\n",
       "    </tr>\n",
       "    <tr>\n",
       "      <th>1</th>\n",
       "      <td>0.232461</td>\n",
       "    </tr>\n",
       "    <tr>\n",
       "      <th>2</th>\n",
       "      <td>0.358993</td>\n",
       "    </tr>\n",
       "    <tr>\n",
       "      <th>3</th>\n",
       "      <td>0.439890</td>\n",
       "    </tr>\n",
       "    <tr>\n",
       "      <th>4</th>\n",
       "      <td>0.481376</td>\n",
       "    </tr>\n",
       "  </tbody>\n",
       "</table>\n",
       "</div>"
      ],
      "text/plain": [
       "          0\n",
       "0 -0.223882\n",
       "1  0.232461\n",
       "2  0.358993\n",
       "3  0.439890\n",
       "4  0.481376"
      ]
     },
     "execution_count": 15,
     "metadata": {},
     "output_type": "execute_result"
    }
   ],
   "source": [
    "y_2_scaled = scale(y_2)\n",
    "#X_encoded_scaled\n",
    "y_2_df=pd.DataFrame(y_2_scaled)\n",
    "y_2_df.head()"
   ]
  },
  {
   "cell_type": "markdown",
   "metadata": {},
   "source": [
    "## Splitting Data into test and train splits (70% train and 30% test) for each of the target variables"
   ]
  },
  {
   "cell_type": "code",
   "execution_count": 16,
   "metadata": {},
   "outputs": [],
   "source": [
    "\n",
    "X_train_1, X_test_1, y_train_1 , y_test_1 =train_test_split(X_scaled, y_1_scaled )\n",
    "\n"
   ]
  },
  {
   "cell_type": "code",
   "execution_count": 17,
   "metadata": {},
   "outputs": [],
   "source": [
    "X_train_2, X_test_2, y_train_2 , y_test_2 =train_test_split(X_scaled, y_2_scaled )"
   ]
  },
  {
   "cell_type": "code",
   "execution_count": 18,
   "metadata": {},
   "outputs": [],
   "source": [
    "X_train_3, X_test_3, y_train_3 , y_test_3 =train_test_split(X_scaled, y_3 )"
   ]
  },
  {
   "cell_type": "markdown",
   "metadata": {},
   "source": [
    "# Building ML models and evaluating them "
   ]
  },
  {
   "cell_type": "markdown",
   "metadata": {},
   "source": [
    "## Regression Models to Predict the Max_Gain and Direction of Max_Gain "
   ]
  },
  {
   "cell_type": "markdown",
   "metadata": {},
   "source": [
    "### Support Vector Regression model with Linear kernel"
   ]
  },
  {
   "cell_type": "markdown",
   "metadata": {},
   "source": [
    "<br>ML model : SVR with Linear kernel <br>\n",
    "Prediction type: Regression <br>\n",
    "Target Parameter: Maximum Gain <br>\n",
    "Evaluation metrics: Mean Squared Error(MSE) , Mean absolute error(MAE)"
   ]
  },
  {
   "cell_type": "code",
   "execution_count": 19,
   "metadata": {},
   "outputs": [
    {
     "name": "stdout",
     "output_type": "stream",
     "text": [
      "MSE for predicting the MAXIMUM GAIN using linear SVR is 1.04304\n",
      "MAE for predicting the MAXIMUM GAIN using linear SVR is 0.51752\n"
     ]
    }
   ],
   "source": [
    "reg_svm = SVR(kernel='linear')\n",
    "reg_svm.fit(X_train_1, y_train_1)\n",
    "\n",
    "#metrics\n",
    "\n",
    "y_pred_1_l = reg_svm.predict(X_test_1)\n",
    "mse_1_l=mean_squared_error(y_test_1, y_pred_1_l ,squared=True)\n",
    "print('MSE for predicting the MAXIMUM GAIN using linear SVR is ' ,end='')\n",
    "print('%.5f'%(mse_1_l))\n",
    "\n",
    "\n",
    "mae_1_l= mean_absolute_error(y_test_1, y_pred_1_l)\n",
    "print('MAE for predicting the MAXIMUM GAIN using linear SVR is ',end='')\n",
    "print('%.5f'%(mae_1_l))"
   ]
  },
  {
   "cell_type": "markdown",
   "metadata": {},
   "source": [
    "<br>ML model : SVR with Linear kernel <br>\n",
    "Prediction type: Regression <br>\n",
    "Target Parameter: Direction of Maximum Gain <br>\n",
    "Evaluation metrics: Mean Squared Error(MSE) , Mean absolute error(MAE)"
   ]
  },
  {
   "cell_type": "code",
   "execution_count": 20,
   "metadata": {},
   "outputs": [
    {
     "name": "stdout",
     "output_type": "stream",
     "text": [
      "MSE for predicting the DIRECTION OF MAXIMUM GAIN using linear SVR is 0.98735\n",
      "MAE for predicting the DIRECTION OF MAXIMUM GAIN using linear SVR is 0.45855\n"
     ]
    }
   ],
   "source": [
    "reg_svm = SVR(kernel='linear')\n",
    "reg_svm.fit(X_train_2, y_train_2)\n",
    "#metrics\n",
    "\n",
    "y_pred_2_l = reg_svm.predict(X_test_2)\n",
    "mse_2_l=mean_squared_error(y_test_2, y_pred_2_l, multioutput='uniform_average', squared=True)\n",
    "print('MSE for predicting the DIRECTION OF MAXIMUM GAIN using linear SVR is ',end='')\n",
    "print('%.5f'%(mse_2_l))\n",
    "\n",
    "\n",
    "mae_2_l= mean_absolute_error(y_test_2, y_pred_2_l)\n",
    "print('MAE for predicting the DIRECTION OF MAXIMUM GAIN using linear SVR is ',end='')\n",
    "print('%.5f'%(mae_2_l))"
   ]
  },
  {
   "cell_type": "markdown",
   "metadata": {},
   "source": [
    "### Support Vector Regression model with rbf kernel"
   ]
  },
  {
   "cell_type": "markdown",
   "metadata": {},
   "source": [
    "### Default Parameters \n"
   ]
  },
  {
   "cell_type": "markdown",
   "metadata": {},
   "source": [
    "ML model : SVR with RBF kernel and default parameters  <br>\n",
    "Prediction type: Regression <br>\n",
    "Target Parameter: Maximum Gain <br>\n",
    "Evaluation metrics: Mean Squared Error(MSE) , Mean absolute error(MAE)"
   ]
  },
  {
   "cell_type": "code",
   "execution_count": 21,
   "metadata": {},
   "outputs": [
    {
     "name": "stdout",
     "output_type": "stream",
     "text": [
      "MSE for predicting the MAXIMUM GAIN using SVR with rbf kernel and default parameters is 0.60732\n",
      "MAE for predicting the MAXIMUM GAIN using SVR with rbf kernel and default parameters is  0.36300\n"
     ]
    }
   ],
   "source": [
    "\n",
    "reg_svm = SVR()\n",
    "reg_svm.fit(X_train_1, y_train_1)\n",
    "\n",
    "\n",
    "y_pred_1 = reg_svm.predict(X_test_1)\n",
    "mse_1=mean_squared_error(y_test_1, y_pred_1 ,squared=True)\n",
    "\n",
    "print('MSE for predicting the MAXIMUM GAIN using SVR with rbf kernel and default parameters is ',end=\"\")\n",
    "print('%.5f'%(mse_1))\n",
    "\n",
    "\n",
    "\n",
    "mae_1= mean_absolute_error(y_test_1, y_pred_1)\n",
    "print('MAE for predicting the MAXIMUM GAIN using SVR with rbf kernel and default parameters is  ', end='')\n",
    "print('%.5f'%(mae_1))"
   ]
  },
  {
   "cell_type": "markdown",
   "metadata": {},
   "source": [
    "\n",
    "\n",
    "<br>ML model : SVR with RBF kernel and default parameters  <br>\n",
    "Prediction type: Regression <br>\n",
    "Target Parameter: Direction of maximum Gain <br>\n",
    "Evaluation metrics: Mean Squared Error(MSE) , Mean absolute error(MAE)"
   ]
  },
  {
   "cell_type": "code",
   "execution_count": 22,
   "metadata": {},
   "outputs": [
    {
     "name": "stdout",
     "output_type": "stream",
     "text": [
      "MSE for predicting the DIRECTION OF MAXIMUM GAIN using SVR with rbf kernel and default parameters is 0.50626\n",
      "MAE for predicting the DIRECTION OF MAXIMUM GAIN using SVR with rbf kernel and default parameters is 0.37397\n"
     ]
    }
   ],
   "source": [
    "reg_svm = SVR()\n",
    "reg_svm.fit(X_train_2, y_train_2)\n",
    "#metrics\n",
    "\n",
    "y_pred_2 = reg_svm.predict(X_test_2)\n",
    "mse_2=mean_squared_error(y_test_2, y_pred_2, multioutput='uniform_average', squared=True)\n",
    "print('MSE for predicting the DIRECTION OF MAXIMUM GAIN using SVR with rbf kernel and default parameters is ',end='') \n",
    "print('%.5f'%(mse_2))\n",
    "\n",
    "\n",
    "mae_2= mean_absolute_error(y_test_2, y_pred_2)\n",
    "print('MAE for predicting the DIRECTION OF MAXIMUM GAIN using SVR with rbf kernel and default parameters is ' ,end='')\n",
    "print('%.5f'%(mae_2))\n"
   ]
  },
  {
   "cell_type": "markdown",
   "metadata": {},
   "source": [
    "\n",
    "### Optimal Paramters "
   ]
  },
  {
   "cell_type": "code",
   "execution_count": 23,
   "metadata": {},
   "outputs": [],
   "source": [
    "param_grid=[\n",
    "    {'C' : [1,10,100,1000],\n",
    "     'gamma':['scale', 1, 0.1, 0.01],\n",
    "     'kernel':['rbf'] },\n",
    "]"
   ]
  },
  {
   "cell_type": "code",
   "execution_count": 24,
   "metadata": {},
   "outputs": [],
   "source": [
    "optimal_params= GridSearchCV(\n",
    "    SVR(),\n",
    "    param_grid,\n",
    "    cv=5,\n",
    "    \n",
    "\n",
    ")"
   ]
  },
  {
   "cell_type": "markdown",
   "metadata": {},
   "source": [
    "<br>Determining the optimal parameters of the rbf kernel for determining the Maximum Gain"
   ]
  },
  {
   "cell_type": "code",
   "execution_count": 25,
   "metadata": {},
   "outputs": [
    {
     "name": "stdout",
     "output_type": "stream",
     "text": [
      "{'C': 10, 'gamma': 1, 'kernel': 'rbf'}\n"
     ]
    }
   ],
   "source": [
    "optimal_params.fit(X_train_1, y_train_1)\n",
    "print(optimal_params.best_params_)\n",
    "#Dictionary"
   ]
  },
  {
   "cell_type": "markdown",
   "metadata": {},
   "source": [
    "<br>Determining the optimal parameters of the rbf kernel for determining the Direction of Maximum Gain"
   ]
  },
  {
   "cell_type": "code",
   "execution_count": 26,
   "metadata": {},
   "outputs": [
    {
     "name": "stdout",
     "output_type": "stream",
     "text": [
      "{'C': 100, 'gamma': 0.1, 'kernel': 'rbf'}\n"
     ]
    }
   ],
   "source": [
    "optimal_params.fit(X_train_2, y_train_2)\n",
    "print(optimal_params.best_params_)\n",
    "#print('MAE: '+ str(optimal_params.best_score_))"
   ]
  },
  {
   "cell_type": "markdown",
   "metadata": {},
   "source": [
    "<br>ML model : SVR with RBF kernel and optimal parameters  <br>\n",
    "Prediction type: Regression <br>\n",
    "Target Parameter: Maximum Gain <br>\n",
    "Evaluation metrics: Mean Squared Error(MSE) , Mean absolute error(MAE)"
   ]
  },
  {
   "cell_type": "code",
   "execution_count": 27,
   "metadata": {},
   "outputs": [
    {
     "name": "stdout",
     "output_type": "stream",
     "text": [
      "MSE for predicting the MAXIMUM GAIN using SVR with rbf kernel and optimal parameters is 0.78608\n",
      "MAE for predicting the MAXIMUM GAIN using SVR with rbf kernel and optimal parameters is 0.40410\n"
     ]
    }
   ],
   "source": [
    "reg_svm= SVR( C=10, gamma=0.01)\n",
    "reg_svm.fit(X_train_1, y_train_1)\n",
    "#metrics\n",
    "\n",
    "y_pred_1_opt = reg_svm.predict(X_test_1)\n",
    "mse_1_opt=mean_squared_error(y_test_1, y_pred_1_opt,squared=True)\n",
    "print('MSE for predicting the MAXIMUM GAIN using SVR with rbf kernel and optimal parameters is ', end='')\n",
    "print('%.5f'%(mse_1_opt))\n",
    "\n",
    "\n",
    "mae_1_opt= mean_absolute_error(y_test_1, y_pred_1_opt)\n",
    "print('MAE for predicting the MAXIMUM GAIN using SVR with rbf kernel and optimal parameters is ',end='')\n",
    "print('%.5f'%(mae_1_opt))"
   ]
  },
  {
   "cell_type": "code",
   "execution_count": 28,
   "metadata": {},
   "outputs": [],
   "source": [
    "\n",
    "# reg_svm= SVR( C=10, gamma=0.01)\n",
    "# reg_svm.fit(X_train_1, y_train_1)\n",
    "# y_pred_1_opt = reg_svm.predict(X_test_1)\n",
    "# Comp_gain = pd.DataFrame({'Actual': (var_y_1*y_test_1) + mean_y_1, 'Predicted': (var_y_1*y_pred_1_opt) + mean_y_1})\n",
    "# Comp_gain.head()\n"
   ]
  },
  {
   "cell_type": "markdown",
   "metadata": {},
   "source": [
    "<br>ML model : SVR with RBF kernel and optimal parameters  <br>\n",
    "Prediction type: Regression <br>\n",
    "Target Parameter: Direction of Maximum Gain <br>\n",
    "Evaluation metrics: Mean Squared Error(MSE) , Mean absolute error(MAE)"
   ]
  },
  {
   "cell_type": "code",
   "execution_count": 29,
   "metadata": {},
   "outputs": [
    {
     "name": "stdout",
     "output_type": "stream",
     "text": [
      "MSE for predicting the DIRECTION_MAX_GAIN using SVR with rbf kernel and optimal parameters is 0.66713\n",
      "MAE for predicting the DIRECTION_MAX_GAIN using SVR with rbf kernel and optimal parameters is 0.40831\n"
     ]
    }
   ],
   "source": [
    "reg_svm= SVR( C=100, gamma=0.01)\n",
    "reg_svm.fit(X_train_2, y_train_2)\n",
    "\n",
    "#metrics\n",
    "\n",
    "y_pred_2_opt = reg_svm.predict(X_test_2)\n",
    "mse_2_opt=mean_squared_error(y_test_2, y_pred_2_opt,  squared=True)\n",
    "print('MSE for predicting the DIRECTION_MAX_GAIN using SVR with rbf kernel and optimal parameters is ',end='')\n",
    "print('%.5f'%(mse_2_opt))\n",
    "\n",
    "\n",
    "mae_2_opt= mean_absolute_error(y_test_2, y_pred_2_opt)\n",
    "print('MAE for predicting the DIRECTION_MAX_GAIN using SVR with rbf kernel and optimal parameters is ',end='')\n",
    "print('%.5f'%(mae_2_opt))"
   ]
  },
  {
   "cell_type": "code",
   "execution_count": 30,
   "metadata": {},
   "outputs": [],
   "source": [
    "# reg_svm= SVR( C=1000, gamma=0.01)\n",
    "# reg_svm.fit(X_train_2, y_train_2)\n",
    "# y_pred_2_opt = reg_svm.predict(X_test_2)\n",
    "# Comp_gain = pd.DataFrame({'Actual': (var_y_2*y_test_2) + mean_y_2, 'Predicted': (var_y_2*y_pred_2_opt) + mean_y_2})\n",
    "# Comp_gain\n"
   ]
  }
 ],
 "metadata": {
  "kernelspec": {
   "display_name": "Python 3",
   "language": "python",
   "name": "python3"
  },
  "language_info": {
   "codemirror_mode": {
    "name": "ipython",
    "version": 3
   },
   "file_extension": ".py",
   "mimetype": "text/x-python",
   "name": "python",
   "nbconvert_exporter": "python",
   "pygments_lexer": "ipython3",
   "version": "3.8.5"
  }
 },
 "nbformat": 4,
 "nbformat_minor": 2
}
